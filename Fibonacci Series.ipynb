{
 "cells": [
  {
   "cell_type": "markdown",
   "id": "bd2b0327",
   "metadata": {},
   "source": [
    "# Fibonacci series"
   ]
  },
  {
   "cell_type": "code",
   "execution_count": null,
   "id": "0cb6ea2e",
   "metadata": {},
   "outputs": [],
   "source": [
    "a = 0\n",
    "b = 1"
   ]
  },
  {
   "cell_type": "code",
   "execution_count": null,
   "id": "47b6710a",
   "metadata": {},
   "outputs": [],
   "source": [
    "c = a + b"
   ]
  },
  {
   "cell_type": "code",
   "execution_count": null,
   "id": "8a5bbc20",
   "metadata": {},
   "outputs": [],
   "source": [
    " n = 50   #we have to find fibonacci series between 0 and 50"
   ]
  },
  {
   "cell_type": "code",
   "execution_count": null,
   "id": "6991cb61",
   "metadata": {},
   "outputs": [],
   "source": [
    "while c < n:\n",
    "    print(c)\n",
    "    c= a + b\n",
    "    a = b\n",
    "    b = c"
   ]
  }
 ],
 "metadata": {
  "kernelspec": {
   "display_name": "Python 3",
   "language": "python",
   "name": "python3"
  },
  "language_info": {
   "codemirror_mode": {
    "name": "ipython",
    "version": 3
   },
   "file_extension": ".py",
   "mimetype": "text/x-python",
   "name": "python",
   "nbconvert_exporter": "python",
   "pygments_lexer": "ipython3",
   "version": "3.8.8"
  }
 },
 "nbformat": 4,
 "nbformat_minor": 5
}
